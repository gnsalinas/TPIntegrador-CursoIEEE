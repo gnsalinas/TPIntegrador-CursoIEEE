{
 "cells": [
  {
   "cell_type": "code",
   "execution_count": 2,
   "metadata": {
    "collapsed": true,
    "pycharm": {
     "name": "#%%\n"
    }
   },
   "outputs": [],
   "source": [
    "#EJECUTAR ESTE BLOQUE ANTES DE CUALQUIER OTRO DEL ARCHIVO\n",
    "\n",
    "import pandas as pd\n",
    "import datetime\n",
    "import matplotlib.pyplot as plt\n",
    "\n",
    "#Leemos el archivo y lo pasamos como diccionario\n",
    "file = pd.read_csv('full_data.csv')\n",
    "dataFile = file.to_dict('index')\n",
    "\n",
    "#Guardamos todos los países en un set en mayúsculas\n",
    "allCountries = set()\n",
    "\n",
    "for key in dataFile:\n",
    "    allCountries.add(dataFile[key]['location'].upper())\n",
    "\n",
    "#Revisa que un país efectivamente exista.\n",
    "def countryCheck(country):\n",
    "    if country in allCountries:\n",
    "        return True\n",
    "    else:\n",
    "        return False\n",
    "\n",
    "\n",
    "#Convierte un string YYYY-mm-dd a formato date de datetime\n",
    "def toDate(string):\n",
    "    date = datetime.datetime.strptime(string, '%Y-%m-%d')\n",
    "    return date\n",
    "\n",
    "#Plotea un diccionario\n",
    "def plotDict(dict, field, format, lbl):\n",
    "    x = list()\n",
    "    y = list()\n",
    "    for keys in dict:\n",
    "        x.append(keys)\n",
    "        y.append(dict[keys][field])\n",
    "    plt.plot(x, y, format, label = lbl)"
   ]
  },
  {
   "cell_type": "code",
   "execution_count": 7,
   "outputs": [
    {
     "name": "stdout",
     "output_type": "stream",
     "text": [
      "2010-01-01\n",
      "2020-01-01\n"
     ]
    }
   ],
   "source": [
    "def inputDate(typeDate):\n",
    "    #Ingreso las fechas\n",
    "    yr = int(input('%s\\nIngrese el año: \\nEjemplo: 2014.' %typeDate))\n",
    "    mth = int(input('%s\\nIngrese el número del mes: \\nEjemplo: si desea elegir marzo debe ingresar 3, si desea elegir noviembre debe ingresar 11.' %typeDate))\n",
    "    dy = int(input('%s\\nIngrese el día: \\nRecuerde que debe ingresar un número.' %typeDate))\n",
    "    #Checkeo que sea una fecha valida y caso contrario pido volverla a ingresar\n",
    "    isValid = False\n",
    "    while not isValid:\n",
    "        try:\n",
    "            d = datetime.date(yr,mth,dy)\n",
    "            isValid = True\n",
    "        except:\n",
    "            yr = int(input('%s\\nIngresa el año correctamente: \\n Ejemplo: 2014.' %typeDate))\n",
    "            mth = int(input('%s\\nIngrese el mes correctamente: \\n Ejemplo: si desea elegir marzo debe ingresar 3, si desea elegir noviembre debe ingresar 11.' %typeDate))\n",
    "            dy = int(input('%s\\nIngrese el día correctamente:\\nRecuerde que debe ingresar un número' %typeDate))\n",
    "    return d\n",
    "\n",
    "#Ingresar ambas fechas y validar que una la de inicio sea anterior a la de fin\n",
    "def chooseDates():\n",
    "    startDate = inputDate('Fecha de inicio')\n",
    "    endDate = inputDate('Fecha de fin')\n",
    "\n",
    "    while endDate <= startDate:\n",
    "        startDate = inputDate('La fecha de inicio debe ser anterior a la fecha de finalización.\\nFecha de inicio')\n",
    "        endDate = inputDate('La fecha de inicio debe ser anterior a la fecha de finalización.\\nFecha de fin')\n",
    "    return startDate,endDate\n",
    "\n",
    "chooseDates()\n",
    "\n",
    "\n",
    "\n",
    "\n",
    "\n",
    "\n",
    "\n",
    "\n",
    "\n"
   ],
   "metadata": {
    "collapsed": false,
    "pycharm": {
     "name": "#%%\n"
    }
   }
  }
 ],
 "metadata": {
  "kernelspec": {
   "display_name": "Python 3",
   "language": "python",
   "name": "python3"
  },
  "language_info": {
   "codemirror_mode": {
    "name": "ipython",
    "version": 2
   },
   "file_extension": ".py",
   "mimetype": "text/x-python",
   "name": "python",
   "nbconvert_exporter": "python",
   "pygments_lexer": "ipython2",
   "version": "2.7.6"
  }
 },
 "nbformat": 4,
 "nbformat_minor": 0
}