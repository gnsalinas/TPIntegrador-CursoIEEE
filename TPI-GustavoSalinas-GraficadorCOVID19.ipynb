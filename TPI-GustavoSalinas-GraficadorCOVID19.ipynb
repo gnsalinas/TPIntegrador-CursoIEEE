{
 "cells": [
  {
   "cell_type": "code",
   "execution_count": 98,
   "outputs": [],
   "source": [
    "# Gustavo Salinas - salinasgustavon@gmail.com"
   ],
   "metadata": {
    "collapsed": false,
    "pycharm": {
     "name": "#%%\n"
    }
   }
  },
  {
   "cell_type": "code",
   "execution_count": 104,
   "metadata": {
    "collapsed": true
   },
   "outputs": [
    {
     "name": "stdout",
     "output_type": "stream",
     "text": [
      "Warning: Failed to set locale category LC_NUMERIC to es_AR.\r\n",
      "Warning: Failed to set locale category LC_TIME to es_AR.\r\n",
      "Warning: Failed to set locale category LC_COLLATE to es_AR.\r\n",
      "Warning: Failed to set locale category LC_MONETARY to es_AR.\r\n",
      "Warning: Failed to set locale category LC_MESSAGES to es_AR.\r\n",
      "--2020-04-20 19:45:05--  https://covid.ourworldindata.org/data/ecdc/full_data.csv\r\n",
      "Resolviendo covid.ourworldindata.org (covid.ourworldindata.org)... 18.230.52.212\r\n",
      "Conectando con covid.ourworldindata.org (covid.ourworldindata.org)[18.230.52.212]:443... conectado.\r\n",
      "Petición HTTP enviada, esperando respuesta... 200 OK\r\n",
      "Longitud: 368552 (360K) [text/csv]\r\n",
      "Grabando a: “full_data.csv”\r\n",
      "\r\n",
      "full_data.csv       100%[===================>] 359.91K  1022KB/s    en 0.4s    \r\n",
      "\r\n",
      "2020-04-20 19:45:05 (1022 KB/s) - “full_data.csv” guardado [368552/368552]\r\n",
      "\r\n"
     ]
    }
   ],
   "source": [
    "! wget 'https://covid.ourworldindata.org/data/ecdc/full_data.csv'"
   ]
  },
  {
   "cell_type": "code",
   "execution_count": 103,
   "outputs": [],
   "source": [
    "import os\n",
    "os.unlink('full_data.csv.1')"
   ],
   "metadata": {
    "collapsed": false,
    "pycharm": {
     "name": "#%%\n"
    }
   }
  },
  {
   "cell_type": "code",
   "execution_count": 101,
   "outputs": [],
   "source": [
    "#Cosas a mejorar\n",
    "#   INPUT DE PAIS: elegir el país de una lista\n",
    "#   FORMATO DE LOS GRAFICOS: ESTETICA PIOLA\n",
    "#   SELECCION DE FECHAS ELEGIR DE UNA LISTA Y VALIDAR Q START SEA ANTES DE END\n"
   ],
   "metadata": {
    "collapsed": false,
    "pycharm": {
     "name": "#%%\n"
    }
   }
  },
  {
   "cell_type": "code",
   "execution_count": 105,
   "outputs": [],
   "source": [
    "import pandas as pd\n",
    "import datetime\n",
    "import matplotlib.pyplot as plt\n",
    "\n",
    "#Leemos el archivo y lo pasamos como diccionario\n",
    "file = pd.read_csv('full_data.csv')\n",
    "dataFile = file.to_dict('index')\n",
    "\n",
    "#Guardamos todos los países en un set en mayúsculas\n",
    "allCountries = set()\n",
    "for key in dataFile:\n",
    "    allCountries.add(dataFile[key]['location'].upper())\n",
    "\n",
    "#Revisa que un país efectivamente exista.\n",
    "def countryCheck(country):\n",
    "    if country in allCountries:\n",
    "        return True\n",
    "    else:\n",
    "        return False\n",
    "\n",
    "#Convierte un string YYYY-mm-dd a formato date de Python\n",
    "def toDate(string):\n",
    "    date = datetime.datetime.strptime(string, '%Y-%m-%d')\n",
    "    return date\n",
    "\n",
    "#Plotea un diccionario\n",
    "def plotDict(dict, field, format, lbl):\n",
    "    x = list()\n",
    "    y = list()\n",
    "    for keys in dict:\n",
    "        x.append(keys)\n",
    "        y.append(dict[keys][field])\n",
    "    plt.plot(x, y, format, label = lbl)"
   ],
   "metadata": {
    "collapsed": false,
    "pycharm": {
     "name": "#%%\n"
    }
   }
  },
  {
   "cell_type": "code",
   "execution_count": null,
   "outputs": [],
   "source": [
    "#Primter item: la aplicación debe recibir del usuario el nombre del país deseado y graficar casos detectados y fallecimientos totales para ese país en función del tiempo.\n",
    "\n",
    "#Identificamos el país que desea el usuario\n",
    "aInput1 = str(input('Ingrese el país del que desea visualizar los contagios y fallecimientos totales:')).upper()\n",
    "while countryCheck(aInput1) == False:\n",
    "    aInput1= str(input('No encontramos el país que introduciste. Por favor intenta de nuevo')).upper()\n",
    "\n",
    "#Armamos un diccionario con la info del país elegido\n",
    "aCountry1 = dict()\n",
    "for key in dataFile:\n",
    "    if dataFile[key]['location'].upper() == aInput1:\n",
    "      aCountry1[toDate(dataFile[key]['date'])] = {\n",
    "          'total_cases' : int(dataFile[key]['total_cases']),\n",
    "          'total_deaths' : int(dataFile[key]['total_deaths'])\n",
    "          }\n",
    "\n",
    "#Ploteamos el diccionario\n",
    "plotDict(aCountry1, 'total_cases', 'k', 'Cases')\n",
    "plotDict(aCountry1, 'total_deaths', 'b', 'Deaths')\n",
    "\n",
    "plt.legend()\n",
    "plt.xticks(rotation=90)\n",
    "plt.show()"
   ],
   "metadata": {
    "collapsed": false,
    "pycharm": {
     "name": "#%%\n"
    }
   }
  },
  {
   "cell_type": "code",
   "execution_count": null,
   "outputs": [],
   "source": [
    "#Segundo item: ingresar data de dos paises y:\n",
    "#   graficar cantidad de casos y fallecimiento en dos gráficos\n",
    "#   el usuario indica intervalo de tiempo\n",
    "#   calcular intersecciones y marcar con un punto\n",
    "\n",
    "startDate = toDate('2020-02-20')\n",
    "endDate = toDate('2020-04-18')\n",
    "\n",
    "#Arma un diccionario con la info de cada país en el intervalo de fechas solicitado\n",
    "def countryCasesDeaths(input):\n",
    "    countrydict = dict()\n",
    "    for key in dataFile:\n",
    "        if (dataFile[key]['location'].upper() == input) and (str(startDate) <= dataFile[key]['date'] <= str(endDate)):\n",
    "            countrydict[toDate(dataFile[key]['date'])] = {\n",
    "            'total_cases' : int(dataFile[key]['total_cases']),\n",
    "            'total_deaths' : int(dataFile[key]['total_deaths'])\n",
    "             }\n",
    "    return countrydict\n",
    "\n",
    "bInput1 = 'CHINA'\n",
    "bInput2 = 'ITALY'\n",
    "\n",
    "bcountry1 = countryCasesDeaths(bInput1)\n",
    "bcountry2 = countryCasesDeaths(bInput2)\n",
    "\n",
    "#Imprimo las curvas en axes, para evitar el MatplotlibDeprecationWarning\n",
    "fig, (ax1, ax2) = plt.subplots(1,2)\n",
    "def plotDict1(field, format, lbl):\n",
    "    x = list()\n",
    "    y = list()\n",
    "    for keys in bcountry1:\n",
    "        x.append(keys)\n",
    "        y.append(bcountry1[keys][field])\n",
    "    ax1.plot(x, y, format, label = lbl)\n",
    "plotDict1('total_cases','k', 'Cases')\n",
    "plotDict1('total_deaths', 'b', 'Deaths')\n",
    "ax1.set_title(bInput1)\n",
    "ax1.set_xlabel('date')\n",
    "def plotDict2(field, format, lbl):\n",
    "    x = list()\n",
    "    y = list()\n",
    "    for keys in bcountry2:\n",
    "        x.append(keys)\n",
    "        y.append(bcountry2[keys][field])\n",
    "    ax2.plot(x, y, format, label = lbl)\n",
    "plotDict2('total_cases','k', 'Cases')\n",
    "plotDict2('total_deaths', 'b', 'Deaths')\n",
    "ax2.set_title(bInput2)\n",
    "ax2.set_xlabel('date')\n",
    "\n",
    "\n",
    "def findJoint(country1, country2, field):\n",
    "    #Armo diccionario con el país que tiene el índice más alto cada día\n",
    "    leadcountry = dict()\n",
    "    j = 0\n",
    "    for i in country1:\n",
    "        if country1[i][field] > country2[i][field]:\n",
    "            leadcountry[j] = {'country' : 'country1', 'date' : i}\n",
    "        elif country1[i][field] < country2[i][field]:\n",
    "            leadcountry[j] = {'country' : 'country2', 'date' : i}\n",
    "        else:\n",
    "            leadcountry[j] = {'country' : 'tie', 'date' : i}\n",
    "        j += 1\n",
    "    #Armo diccionario con los puntos que coinciden\n",
    "    joints = dict()\n",
    "    for i in range(len(leadcountry)-1):\n",
    "        if (leadcountry[i]['country'] != leadcountry[i+1]['country']) or (leadcountry[i]['country'] == 'tie'):\n",
    "            joints[i] = {\n",
    "                'date' : leadcountry[i]['date'],\n",
    "                'value': country1[leadcountry[i]['date']][field]\n",
    "            }\n",
    "    #Imprime los puntos\n",
    "    x = list()\n",
    "    y = list()\n",
    "    for i in joints:\n",
    "        x.append(joints[i]['date'])\n",
    "        y.append(joints[i]['value'])\n",
    "        ax1.plot(x,y, 'ro')\n",
    "        ax2.plot(x,y, 'ro')\n",
    "\n",
    "\n",
    "findJoint(bcountry1,bcountry2, 'total_cases')\n",
    "findJoint(bcountry1,bcountry2, 'total_deaths')\n",
    "\n",
    "plt.show()"
   ],
   "metadata": {
    "collapsed": false,
    "pycharm": {
     "name": "#%%\n"
    }
   }
  },
  {
   "cell_type": "code",
   "execution_count": 118,
   "outputs": [],
   "source": [
    "#ITEM 4 ALMACENAR EN UN EXCEL LOS PAISES ORDENADOS DE MAYOR CANTIDAD DE CASOS A MENOR CANTIDAD DE CASOS\n",
    "# INCLUIR TOTAL DE CASOS Y TOTAL DE MUERTOS\n",
    "# HACER UNA HOJA POR DIA\n",
    "# RANGO DE FECHAS VARIABLE\n",
    "\n",
    "startDate = toDate('2020-02-20')\n",
    "endDate = toDate('2020-04-18')\n",
    "\n",
    "writer = pd.ExcelWriter('Resumen Diario.xlsx')\n",
    "\n",
    "#recorro los dias uno por uno empezando por la fecha de inicio\n",
    "readDate = startDate\n",
    "while readDate <= endDate:\n",
    "    #Creo un diccionario con las muestras de ese día\n",
    "    today = dict()\n",
    "    for key in dataFile:\n",
    "        if readDate == toDate(dataFile[key]['date']):\n",
    "            today[dataFile[key]['location']] = {\n",
    "                'total_cases' : int(dataFile[key]['total_cases']),\n",
    "                'total_deaths': int(dataFile[key]['total_deaths'])\n",
    "            }\n",
    "    #En una lista guardo la cantidad de casos del dia\n",
    "    cases = list()\n",
    "    for key in today:\n",
    "        cases.append(today[key]['total_cases'])\n",
    "    #Ordeno la lista\n",
    "    cases.sort(reverse = True)\n",
    "    #Creo un nuevo diccionario con el ingreso de elementos ordenado según el total de casos\n",
    "    finalDict = dict()\n",
    "    for i in range(len(cases)):\n",
    "        for key in today:\n",
    "            blacklist = list()\n",
    "            if (today[key]['total_cases'] == cases[i]) and (key not in blacklist):\n",
    "                finalDict[key] = {\n",
    "                    'total_cases' : today[key]['total_cases'],\n",
    "                    'total_deaths': today[key]['total_deaths']\n",
    "                }\n",
    "                #filtro para la próxima iteración el país que acabo de guardar\n",
    "                blacklist.append(key)\n",
    "\n",
    "    finalDataFrame = pd.DataFrame(finalDict)\n",
    "    finalDataFrame.transpose().to_excel(writer, datetime.datetime.strftime(readDate, '%d %m %Y'))\n",
    "    writer.save()\n",
    "    #incremento el día y repito el bucle\n",
    "    readDate += datetime.timedelta(days=1)\n",
    "\n",
    "\n"
   ],
   "metadata": {
    "collapsed": false,
    "pycharm": {
     "name": "#%%\n"
    }
   }
  }
 ],
 "metadata": {
  "kernelspec": {
   "display_name": "Python 3",
   "language": "python",
   "name": "python3"
  },
  "language_info": {
   "codemirror_mode": {
    "name": "ipython",
    "version": 2
   },
   "file_extension": ".py",
   "mimetype": "text/x-python",
   "name": "python",
   "nbconvert_exporter": "python",
   "pygments_lexer": "ipython2",
   "version": "2.7.6"
  }
 },
 "nbformat": 4,
 "nbformat_minor": 0
}