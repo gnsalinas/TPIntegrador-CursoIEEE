{
 "cells": [
  {
   "cell_type": "code",
   "execution_count": 2,
   "metadata": {
    "collapsed": true
   },
   "outputs": [],
   "source": [
    "#EJECUTAR ESTE BLOQUE ANTES DE CUALQUIER OTRO DEL ARCHIVO\n",
    "\n",
    "import pandas as pd\n",
    "import datetime\n",
    "import matplotlib.pyplot as plt\n",
    "\n",
    "#Leemos el archivo y lo pasamos como diccionario\n",
    "file = pd.read_csv('full_data.csv')\n",
    "dataFile = file.to_dict('index')\n",
    "\n",
    "#Guardamos todos los países en un set en mayúsculas\n",
    "allCountries = set()\n",
    "\n",
    "for key in dataFile:\n",
    "    allCountries.add(dataFile[key]['location'].upper())\n",
    "\n",
    "#Revisa que un país efectivamente exista.\n",
    "def countryCheck(country):\n",
    "    if country in allCountries:\n",
    "        return True\n",
    "    else:\n",
    "        return False\n",
    "\n",
    "\n",
    "#Convierte un string YYYY-mm-dd a formato date de datetime\n",
    "def toDate(string):\n",
    "    date = datetime.datetime.strptime(string, '%Y-%m-%d')\n",
    "    return date\n",
    "\n",
    "#Plotea un diccionario\n",
    "def plotDict(dict, field, format, lbl):\n",
    "    x = list()\n",
    "    y = list()\n",
    "    for keys in dict:\n",
    "        x.append(keys)\n",
    "        y.append(dict[keys][field])\n",
    "    plt.plot(x, y, format, label = lbl)"
   ]
  },
  {
   "cell_type": "code",
   "execution_count": 5,
   "outputs": [
    {
     "ename": "TypeError",
     "evalue": "unsupported operand type(s) for +: 'datetime.date' and 'datetime.date'",
     "output_type": "error",
     "traceback": [
      "\u001B[0;31m---------------------------------------------------------------------------\u001B[0m",
      "\u001B[0;31mTypeError\u001B[0m                                 Traceback (most recent call last)",
      "\u001B[0;32m<ipython-input-5-ce44ac771a7f>\u001B[0m in \u001B[0;36m<module>\u001B[0;34m\u001B[0m\n\u001B[1;32m      6\u001B[0m \u001B[0mendDate\u001B[0m \u001B[0;34m=\u001B[0m \u001B[0mtoDate\u001B[0m\u001B[0;34m(\u001B[0m\u001B[0;34m'2020-03-10'\u001B[0m\u001B[0;34m)\u001B[0m\u001B[0;34m\u001B[0m\u001B[0;34m\u001B[0m\u001B[0m\n\u001B[1;32m      7\u001B[0m \u001B[0;34m\u001B[0m\u001B[0m\n\u001B[0;32m----> 8\u001B[0;31m \u001B[0mavgDate\u001B[0m \u001B[0;34m=\u001B[0m \u001B[0mstartDate\u001B[0m\u001B[0;34m.\u001B[0m\u001B[0mdate\u001B[0m\u001B[0;34m(\u001B[0m\u001B[0;34m)\u001B[0m \u001B[0;34m+\u001B[0m \u001B[0mendDate\u001B[0m\u001B[0;34m.\u001B[0m\u001B[0mdate\u001B[0m\u001B[0;34m(\u001B[0m\u001B[0;34m)\u001B[0m\u001B[0;34m\u001B[0m\u001B[0;34m\u001B[0m\u001B[0m\n\u001B[0m\u001B[1;32m      9\u001B[0m \u001B[0;34m\u001B[0m\u001B[0m\n\u001B[1;32m     10\u001B[0m \u001B[0mprint\u001B[0m\u001B[0;34m(\u001B[0m\u001B[0mavgDate\u001B[0m\u001B[0;34m)\u001B[0m\u001B[0;34m\u001B[0m\u001B[0;34m\u001B[0m\u001B[0m\n",
      "\u001B[0;31mTypeError\u001B[0m: unsupported operand type(s) for +: 'datetime.date' and 'datetime.date'"
     ]
    }
   ],
   "source": [
    "#Segundo item:\n",
    "#   el usuario indica intervalo de tiempo\n",
    "#   calcular intersecciones y marcar con un punto\n",
    "\n",
    "startDate = toDate('2020-01-07')\n",
    "endDate = toDate('2020-03-10')\n",
    "\n",
    "avgDate = startDate.date() + endDate.date()\n",
    "\n",
    "print(avgDate)"
   ],
   "metadata": {
    "collapsed": false,
    "pycharm": {
     "name": "#%%\n"
    }
   }
  }
 ],
 "metadata": {
  "kernelspec": {
   "display_name": "Python 3",
   "language": "python",
   "name": "python3"
  },
  "language_info": {
   "codemirror_mode": {
    "name": "ipython",
    "version": 2
   },
   "file_extension": ".py",
   "mimetype": "text/x-python",
   "name": "python",
   "nbconvert_exporter": "python",
   "pygments_lexer": "ipython2",
   "version": "2.7.6"
  }
 },
 "nbformat": 4,
 "nbformat_minor": 0
}